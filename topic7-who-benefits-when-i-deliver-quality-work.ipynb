{
 "cells": [
  {
   "cell_type": "markdown",
   "metadata": {},
   "source": [
    "> Delivering qualiy work is \"teh study of a problem and presentation of a solution, in such form that all that remains to be done on the part of the requester or recipient of the recommendation is to indicate her approval or disapproval of the recommended action\"\n",
    "Thomas Watson"
   ]
  },
  {
   "cell_type": "markdown",
   "metadata": {},
   "source": [
    "## Delivering quality work helps not only your requestor but also you\n",
    "\n",
    "A commonly held belief is that delivering quality work benefits only your requestor, but this is not the case. It benefits both your requestor and you.\n",
    "\n",
    "### Know how quality work is beneficial for both the parties.\n",
    "\n",
    "#### How does delivering quality work help your requestor?\n",
    "- It helps the requestor save time in doing tasks that you can take up.\n",
    "- It gives the requestor more time to manage the work.\n",
    "- It helps the requestor take better decisions.\n",
    "\n",
    "#### How does delivering quality work help you?\n",
    "- It empowers you.\n",
    "- It encourages you to develop new skills.\n",
    "- It enhances your creativity.\n",
    "- It builds on your collaborative skills.\n",
    "- It provides greater job satisfaction.\n",
    "- It hones your decision-making skills."
   ]
  },
  {
   "cell_type": "markdown",
   "metadata": {},
   "source": [
    "## Your mindset affects your approach\n",
    "\n",
    "You have learned how to follow the five-step approach to deliver quality work, with agility. But, you need to be careful about your mindset. It influences your approach to delivering quality work.\n",
    "\n",
    "You must make an effort to move away from a destructive mindset to a constructive one. For example, instead of being stuck with questions, proactively seek answers.\n",
    "\n",
    "![ElcqRn-RTTuXKkZ_kT07ww_f22ed0f26cde460facaa84d055de28a1_36](https://github.com/user-attachments/assets/caa96133-fd96-4a4c-adce-648b5a550676)\n"
   ]
  },
  {
   "cell_type": "markdown",
   "metadata": {},
   "source": [
    "In this last topic,\n",
    "you learn that delivering quality work\n",
    "benefits both your requestor and you.\n",
    "You also learned why it's important to move from\n",
    "a destructive mindset to a constructive one,\n",
    "to ensure high quality deliverables. "
   ]
  }
 ],
 "metadata": {
  "language_info": {
   "name": "python"
  }
 },
 "nbformat": 4,
 "nbformat_minor": 2
}
