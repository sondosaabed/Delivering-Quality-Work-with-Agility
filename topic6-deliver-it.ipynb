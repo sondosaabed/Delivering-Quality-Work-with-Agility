{
 "cells": [
  {
   "cell_type": "markdown",
   "metadata": {},
   "source": [
    "- Deliver to the client\n",
    "- Ensure satisfaction\n",
    "\n",
    "![image](https://github.com/user-attachments/assets/575de909-8ddc-47d5-81e4-ad7c290e2785)"
   ]
  },
  {
   "cell_type": "markdown",
   "metadata": {},
   "source": [
    "## Use this checklist to ensure successful delivery\n",
    "\n",
    "Here's a checklist to ensure successful delivery.\n",
    "View each aspect for tips on how to organize your delivery. \n",
    "\n",
    "### Reflect.\n",
    "- Have I checked to make sure I’ve completely responded to every element in the work request?\n",
    "- Have I identified the difference between information that is “need to know” and “nice to know”?\n",
    "- Have I anticipated questions that the requestor might ask me?\n",
    "- Have I anticipated every significant risk involved in implementing my work product or recommendation?\n",
    "- Do I understand the “next step” that the requestor should take?\n",
    "\n",
    "### Arrange.\n",
    "- Are my materials neat, attractive, and perfectly proofread?\n",
    "- Have I put a short and clear summary of my work at the beginning and at the end of my materials?\n",
    "- Have I worked out clear and succinct answers to the questions I might be asked?\n",
    "- Have I included assessments for every significant risk?\n",
    "- Have I provided help or resources supporting the “next step” that each person receiving my work must take?\n",
    "- If I were the client, would I be willing to sign this work and stake my professional reputation on it?\n",
    "\n",
    "### Practice.\n",
    "- Can I present my work confidently, without stumbling or leaving things out?\n",
    "- Can I present my work efficiently, neither rushing it nor wasting people’s time?\n",
    "- Have I practiced answering tough questions?\n",
    "- Can I handle disagreement without sounding defensive?\n",
    "- Can I confidently ask for approval or “next-step” action based on my work?"
   ]
  },
  {
   "cell_type": "markdown",
   "metadata": {},
   "source": [
    "## How do you know that your delivery is successful?\n",
    "\n",
    "![image](https://github.com/user-attachments/assets/8daddb03-81fc-4000-80e5-9a54414a4be5)\n"
   ]
  },
  {
   "cell_type": "markdown",
   "metadata": {},
   "source": [
    "In this topic, you explored the last step of\n",
    "the five-step process and learned that delivering\n",
    "your work with agility requires\n",
    "just as much thought and\n",
    "preparation as doing it or planning for it.\n",
    "It's important to note that it isn't only your clients or\n",
    "stakeholders who benefit from\n",
    "your diligence and great solutions.\n",
    "Let's find out who else stands to gain. "
   ]
  }
 ],
 "metadata": {
  "language_info": {
   "name": "python"
  }
 },
 "nbformat": 4,
 "nbformat_minor": 2
}
