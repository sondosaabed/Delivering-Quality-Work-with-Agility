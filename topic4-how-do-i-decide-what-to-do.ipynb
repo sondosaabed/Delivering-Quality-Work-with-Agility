{
 "cells": [
  {
   "cell_type": "markdown",
   "metadata": {},
   "source": [
    "After you've collected and\n",
    "analyzed your information, you need to start planning your actions. How should you move forward,\n",
    "should you choose one solution or consider several possible options? You are prepared and\n",
    "you've done your research, You're through with the first two\n",
    "steps in the five step process. Now it's time to move to the third step\n",
    "where you need to decide what to do at the outset. What do you think is a good idea to figure out the best solution or consider several possible solutions?  \n",
    "\n",
    "take a moment to review this quote, when you're looking for solutions, be open to different types of solutions and do not rush into making a decision. Many people rushed to the third step in the process and then backtrack to the first two steps if they need something, this is a bad idea. When you are following the five step process to deliver quality work, make sure you are clear about the expectations and have completed your research before deciding what to do. You'll be amazed at how much time this saves you in the long run and it helps to ensure that your final work product really hits its target. \n",
    "What if you suddenly realize you need more information and the person who can provide this information is on vacation? What would be the right thing to do, halt work because it be better to continue only if all the information is in place? Or continue working on the task, even in the face of ambiguity? An agile\n",
    "way of working means not getting stuck. Try and work with as much information as you have and move ahead in the process. Keep your requesters informed\n",
    "about your progress and the iterative approach you are taking. Be open to correcting your course based on feedback. So what do you need to do\n",
    "to move forward? First, you need to come up with different solutions to choose from."
   ]
  },
  {
   "cell_type": "markdown",
   "metadata": {},
   "source": [
    "## How can you come up with different solutions?\n",
    "\n",
    "Here are three different ways in which you can come up with different solutions. Remember, your solutions should be based on what you uncovered during the research step, not just on the request.\n",
    "\n",
    "Know the following techniques for tips on how to come up with solutions.\n",
    "\n",
    "### 1. Research multiple alternatives.\n",
    "\n",
    "- Explore multiple alternatives to come up with as many solutions as you can.\n",
    "- Make sure the solutions are focused on the work request.\n",
    "\n",
    "### 2. Put yourself in the other person’s shoes.\n",
    "- Identify someone you admire who has skills in this area. Ask yourself, \"What would that person do?\"\n",
    "- This helps you view possible solutions from new directions, which can reveal an unexpected path to your goal.\n",
    "\n",
    "### 3. Ask experienced folks.\n",
    "- Ask folks with experience in this area what they did when they encountered something similar and how well their actions worked.\n",
    "- This gives you the advantage of experience that you've not had for yourself."
   ]
  },
  {
   "cell_type": "markdown",
   "metadata": {},
   "source": [
    "## What challenges do you face when generating solutions?\n",
    "\n",
    "Here are some of the challenges that you may face when you're generating solutions. \n",
    "- Going around in circles.\n",
    "- Fearing negative consequences.\n",
    "- Failing to trust a gut feeling.\n",
    "- Falling in love with a solution.\n",
    "- Fearing disruption of the status quo.\n",
    "- Not being objective.\n",
    "- Not understanding the problem well enough to decide."
   ]
  },
  {
   "cell_type": "markdown",
   "metadata": {},
   "source": [
    "## Use these evaluation techniques\n",
    "\n",
    "Once you've created a list of possible solutions that might accomplish your goal, the correct solution might not be evident immediately. In such a case, don’t rush to what seems to be the obvious answer. Use these evaluation techniques to identify the best solution.\n",
    "\n",
    "### Pros and cons.\n",
    "- List the strengths and weaknesses of each solution.\n",
    "\n",
    "### Risks and opportunities.\n",
    "- List any risks and future opportunities associated with each solution.\n",
    "- Ask questions such as, \"What could go wrong?\" or \"What could improve?\"\n",
    "\n",
    "### Uncertainties.\n",
    "- List unpredictable actions for each solution; for example, the possibility of bad weather interrupting flight schedules, changing currency values affecting prices, and so on.\n",
    "- Identify areas that could cause trouble because they are misunderstood or unpredictable."
   ]
  },
  {
   "cell_type": "markdown",
   "metadata": {},
   "source": [
    "## How do you know you've done enough evaluation?\n",
    "\n",
    "Use this flowchart to determine if your evaluation is complete.\n",
    "\n",
    "If you have rational and positive responses to these questions, then you've evaluated your potential solution well. Following this process also allows you to course-correct and be agile.\n",
    "\n",
    "![X56CGyILSTeeghsiC2k3Iw_760a99605dba41ebb50367f6bd2881a1_DQW_Slide_48](https://github.com/user-attachments/assets/59e93300-e41a-4a7f-97f5-e2df4f0f76b0)\n"
   ]
  },
  {
   "cell_type": "markdown",
   "metadata": {},
   "source": [
    "![HtHVV0HPTkuR1VdBz55LAQ_043f3e6f82dc4dbf9cefaf04c95ca6a1_90](https://github.com/user-attachments/assets/ba376526-2ef0-4812-9931-e923a2974322)\n",
    "\n",
    "![unUtETxkSy21LRE8ZAstYg_34c1a1301c664759aa961a2ca0d186a1_91](https://github.com/user-attachments/assets/632b227c-b5ca-4950-9f32-9cda9f25a05f)\n",
    "\n",
    "![FH_RdcnrQMq_0XXJ6zDKag_a49b8ce202e64d8ab5c86d7b04d2daa1_92](https://github.com/user-attachments/assets/52df2365-f1b5-4045-ba9b-45b16e3872a0)\n",
    "\n",
    "![uo14_f5BRoKNeP3-QUaCmg_cf71cdcb2f3648f89d089d64a585e7a1_89](https://github.com/user-attachments/assets/dc3b8668-9375-4ee0-974c-29533fe651a0)\n",
    "\n",
    "![f87NnTTkRwGOzZ005CcB2w_83246ef9ba0b44f49eef0ad4f42990a1_88](https://github.com/user-attachments/assets/9a55a7ae-db5b-4dbc-b4db-5545001c5963)\n",
    "\n",
    "![Tw5tTDj1SmSObUw49bpk-Q_954318ca72ae4e40826d51c201d3d4a1_95](https://github.com/user-attachments/assets/ef952536-e142-4707-a5fc-ecd02ebdb18e)\n",
    "\n",
    "![v8u1arEUTgqLtWqxFB4KqQ_7f28c9a6d33e46659f01d5ae0bacc5a1_96](https://github.com/user-attachments/assets/a738cd0c-a0c6-4b60-9973-e80dc2c9f260)\n",
    "\n",
    "![HLcwGR9US4i3MBkfVIuIQw_14855dba524c4123a7a0e136d37988a1_97](https://github.com/user-attachments/assets/3e36c8e8-a523-4601-9e20-0df195280282)\n",
    "\n"
   ]
  },
  {
   "cell_type": "markdown",
   "metadata": {},
   "source": [
    "## The final test for your plan\n",
    "![dVu00JerQuGbtNCXqyLh_g_dc17cab9ba824d92959bb0700d891ea1_31](https://github.com/user-attachments/assets/9609edb3-f4ef-4e94-8dfb-13653d0fb030)"
   ]
  },
  {
   "cell_type": "markdown",
   "metadata": {},
   "source": [
    "## How much is too much\n",
    "![image](https://github.com/user-attachments/assets/3bb45b67-0290-4892-b763-690f08a9487d)"
   ]
  },
  {
   "cell_type": "markdown",
   "metadata": {},
   "source": [
    "Let's review what you learned in this topic.\n",
    "You began with how you can generate\n",
    "multiple solutions to complete\n",
    "a task by researching multiple alternatives,\n",
    "by putting yourself in the shoes of someone you admire,\n",
    "and by asking experienced folks\n",
    "what they did in similar situations.\n",
    "You learned how you can objectively\n",
    "evaluate solutions and choose the most workable one.\n",
    "This is an important step.\n",
    "By not doing a thorough evaluation,\n",
    "you run the risk of providing a sub-optimal solution,\n",
    "which in turn is likely to cause\n",
    "confusion and lead to rework. "
   ]
  }
 ],
 "metadata": {
  "language_info": {
   "name": "python"
  }
 },
 "nbformat": 4,
 "nbformat_minor": 2
}
