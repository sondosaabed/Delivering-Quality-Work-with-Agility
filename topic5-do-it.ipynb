{
 "cells": [
  {
   "cell_type": "markdown",
   "metadata": {},
   "source": [
    "> **You must first clearly see a thing in your mind before you can do it.**\n",
    "Alexandar Morrison."
   ]
  },
  {
   "cell_type": "markdown",
   "metadata": {},
   "source": [
    "This step deals with how you execute the plan:\n",
    "- Organize and review your ideas.\n",
    "- Test your work.\n",
    "- Iterate and adapt to different solutions."
   ]
  },
  {
   "cell_type": "markdown",
   "metadata": {},
   "source": [
    "## 1. Identify the core message\n",
    "Start by clearly identifying your point with 40 words or less (the core message)"
   ]
  },
  {
   "cell_type": "markdown",
   "metadata": {},
   "source": [
    "## 2. Filter the content\n",
    "Leave out \"nice to know\" so people can focus on what they need to know to get their work done"
   ]
  },
  {
   "cell_type": "markdown",
   "metadata": {},
   "source": [
    "## 3. Create a draft\n",
    "Review your draft with your peers and be open to feedback."
   ]
  },
  {
   "cell_type": "markdown",
   "metadata": {},
   "source": [
    "## 4. Choose the medium \n",
    "Identify the suitable delivery medium for each requirement."
   ]
  },
  {
   "cell_type": "markdown",
   "metadata": {},
   "source": [
    "## 5. Revise the final comtent\n",
    "Revise and be open to iteration.\n",
    "Look for new information.\n",
    "Keep an open mind to change."
   ]
  },
  {
   "cell_type": "markdown",
   "metadata": {},
   "source": [
    "In this topic, you understood that being cautious and deliberate about executing\n",
    "a plan helps to ensure that your message is refined and that it hits the mark.\n",
    "It's important that you scrutinize the plan and\n",
    "take the time to understand what you are about to do before you start doing it. "
   ]
  }
 ],
 "metadata": {
  "language_info": {
   "name": "python"
  }
 },
 "nbformat": 4,
 "nbformat_minor": 2
}
