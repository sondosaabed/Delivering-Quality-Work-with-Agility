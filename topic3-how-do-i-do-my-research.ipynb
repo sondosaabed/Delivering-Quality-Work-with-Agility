{
 "cells": [
  {
   "cell_type": "markdown",
   "metadata": {},
   "source": [
    "collect all the information you require to complete your assignment. Collecting information involves\n",
    "its fair share of challenges. However, if you approach common questions such as what, or how much information to collect, what to do with the information and so on; with agility, you can overcome this challenge. \n",
    "\n",
    "**one sees great things from the valley, onlt small things from the peak.**\n",
    "- G.K. Chesterton"
   ]
  },
  {
   "cell_type": "markdown",
   "metadata": {},
   "source": [
    "![iD13DspzQMK9dw7KcwDCCA_07c0059cdd77439a991c509e57f1a0a1_DQW_Slide_30a](https://github.com/user-attachments/assets/dbc78f41-470b-466a-b8ee-ade0456d9821)\n",
    "\n",
    "![siZLoVgHSWumS6FYBylrqA_0c6b5afb2822451487285ecc59fd83a1_DQW_Slide_30c](https://github.com/user-attachments/assets/0cbabbae-f1cc-4538-b6d6-68cd1f43d7c9)\n",
    "\n",
    "![qsqDaAYIS-qKg2gGCBvqww_82be43b9ce8947a985d970cb6a19d7a1_DQW_Slide_30b](https://github.com/user-attachments/assets/477c38ef-b126-4068-8a14-603431ece163)"
   ]
  },
  {
   "cell_type": "markdown",
   "metadata": {},
   "source": [
    "## What are some barriers to doing effective research?\n",
    "\n",
    "Doing research is no easy task. It comes with a set of challenges. Some of the challenges of doing research are listed on the screen.\n",
    "\n",
    "### What are the challenges in doing effective research?\n",
    "\n",
    "- I’ve never done this before.\n",
    "- I don’t know anyone who knows about this.\n",
    "- I don’t know where to find the information.\n",
    "- I have information but I don’t know if it’s reliable.\n",
    "\n",
    "### How can you overcome these challenges?\n",
    "\n",
    "- Find someone who has worked on something similar.\n",
    "- Ask colleagues if they know anyone having the information.\n",
    "- Use your organization's internal collaboration tools to locate an expert.\n",
    "- Look for solutions outside of your organization; for example, do a Google search, or post a question on Twitter or on a LinkedIn forum.\n"
   ]
  },
  {
   "cell_type": "markdown",
   "metadata": {},
   "source": [
    "## Make sure that you collect as much information as you can\n",
    "![image](https://github.com/user-attachments/assets/9212c43d-a353-48f8-a802-740ae49c9777)"
   ]
  },
  {
   "cell_type": "markdown",
   "metadata": {},
   "source": [
    "## Asking the following questions helps you interpret the researched data effectively:\n",
    "\n",
    "- Is the information reliable?\n",
    "- Is it complete?\n",
    "- Does it meet the requirement or need?\n",
    "- Have I looked at it from the perspective of other parties involved?\n",
    "- Do I understand it well enough to explain it to someone else?"
   ]
  },
  {
   "cell_type": "markdown",
   "metadata": {},
   "source": [
    "![fx7I6dtKStmeyOnbSkrZhg_65187af3701349d697158f634155d3a1_DQW_Slide_34a](https://github.com/user-attachments/assets/ef0e4e24-b7c5-4eae-95d6-425221f8f626)\n",
    "\n",
    "![81rK6-mYQ5CayuvpmNOQNw_c609fbbc106b41ae8b5887c210982ea1_DQW_Slide_34b](https://github.com/user-attachments/assets/beaca438-5562-4ced-86d1-977e7335e56d)\n",
    "\n",
    "![ccRLF_R6RByESxf0evQcZA_10cd598066a041c9965fa8f8110525a1_DQW_Slide_34c](https://github.com/user-attachments/assets/bc9c05c9-8858-40c0-b8d2-af963fb15a87)\n",
    "\n",
    "![gWwEncPdRQ-sBJ3D3QUPVg_9a6d5b9702d04104aeb476d304e3daa1_21](https://github.com/user-attachments/assets/cb91e0cb-654e-4708-83f5-1ec9cf638a3a)"
   ]
  },
  {
   "cell_type": "markdown",
   "metadata": {},
   "source": [
    "Let's review what you've learned in this topic.\n",
    "You identified all the information you need to\n",
    "collect in order to complete your assignment.\n",
    "Your research should comprise not\n",
    "only what you've been asked for directly,\n",
    "but also include other\n",
    "information that you know will be helpful.\n",
    "You also learned how to check whether you have\n",
    "all the necessary information\n",
    "before beginning your analysis.\n",
    "Finally, you learned how important it is\n",
    "to ensure that your analysis is complete. "
   ]
  }
 ],
 "metadata": {
  "language_info": {
   "name": "python"
  }
 },
 "nbformat": 4,
 "nbformat_minor": 2
}
